{
 "cells": [
  {
   "cell_type": "code",
   "execution_count": 1,
   "metadata": {},
   "outputs": [
    {
     "name": "stderr",
     "output_type": "stream",
     "text": [
      "D:\\Anaconda3\\lib\\site-packages\\sklearn\\ensemble\\weight_boosting.py:29: DeprecationWarning: numpy.core.umath_tests is an internal NumPy module and should not be imported. It will be removed in a future NumPy release.\n",
      "  from numpy.core.umath_tests import inner1d\n"
     ]
    }
   ],
   "source": [
    "import pandas as pd\n",
    "import numpy as np \n",
    "import matplotlib.pyplot as plt\n",
    "from sklearn.metrics import log_loss            #вообще здесь должны быть слова о перекрёстной энтропии, но у нас только введение\n",
    "from sklearn.model_selection import train_test_split \n",
    "from sklearn.ensemble import GradientBoostingClassifier as GBS \n",
    "\n",
    "\n",
    "file = pd.read_csv('gbm-data.csv')\n",
    "df = pd.DataFrame(data = file)\n",
    "target = df['Activity'].values\n",
    "data = df.drop('Activity', axis =1).values\n",
    "X_train, X_test, y_train, y_test = train_test_split(data, target, test_size = 0.8, random_state = 241)"
   ]
  },
  {
   "cell_type": "code",
   "execution_count": 21,
   "metadata": {},
   "outputs": [
    {
     "name": "stdout",
     "output_type": "stream",
     "text": [
      "      Iter       Train Loss   Remaining Time \n",
      "         1           1.0190           17.89s\n",
      "         2           0.9192           14.94s\n",
      "         3           0.8272           12.49s\n",
      "         4           0.7834           10.81s\n",
      "         5           0.7109           11.93s\n",
      "         6           0.6368           11.78s\n",
      "         7           0.5797           11.14s\n",
      "         8           0.5610           10.66s\n",
      "         9           0.5185           10.48s\n",
      "        10           0.4984           10.15s\n",
      "        20           0.1999            9.78s\n",
      "        30           0.1313           10.20s\n",
      "        40           0.0790            9.67s\n",
      "        50           0.0511            8.90s\n",
      "        60           0.0352            8.29s\n",
      "        70           0.0245            7.69s\n",
      "        80           0.0162            7.15s\n",
      "        90           0.0114            6.63s\n",
      "       100           0.0077            6.16s\n",
      "       200           0.0004            1.91s\n",
      "      Iter       Train Loss   Remaining Time \n",
      "         1           1.1255           12.60s\n",
      "         2           1.0035           13.74s\n",
      "         3           0.9386           13.31s\n",
      "         4           0.8844           12.58s\n",
      "         5           0.8381           13.69s\n",
      "         6           0.7995           13.75s\n",
      "         7           0.7559           13.16s\n",
      "         8           0.7205           12.85s\n",
      "         9           0.6958           12.39s\n",
      "        10           0.6725           12.16s\n",
      "        20           0.4672           10.64s\n",
      "        30           0.3179           10.08s\n",
      "        40           0.2274            9.73s\n",
      "        50           0.1774            9.15s\n",
      "        60           0.1394            8.53s\n",
      "        70           0.1050            7.96s\n",
      "        80           0.0805            7.47s\n",
      "        90           0.0650            6.88s\n",
      "       100           0.0511            6.46s\n",
      "       200           0.0058            2.12s\n",
      "      Iter       Train Loss   Remaining Time \n",
      "         1           1.2095           13.15s\n",
      "         2           1.1006           13.10s\n",
      "         3           1.0240           13.22s\n",
      "         4           0.9729           13.19s\n",
      "         5           0.9387           12.95s\n",
      "         6           0.8948           12.94s\n",
      "         7           0.8621           12.46s\n",
      "         8           0.8360           11.92s\n",
      "         9           0.8171           11.56s\n",
      "        10           0.7883           11.68s\n",
      "        20           0.6164            9.82s\n",
      "        30           0.4933            8.96s\n",
      "        40           0.4248            8.30s\n",
      "        50           0.3345            7.88s\n",
      "        60           0.2760            7.43s\n",
      "        70           0.2263            7.08s\n",
      "        80           0.1971            6.65s\n",
      "        90           0.1693            6.37s\n",
      "       100           0.1388            6.09s\n",
      "       200           0.0294            2.06s\n",
      "      Iter       Train Loss   Remaining Time \n",
      "         1           1.2613           13.26s\n",
      "         2           1.1715           15.30s\n",
      "         3           1.1009           14.34s\n",
      "         4           1.0529           14.43s\n",
      "         5           1.0130           13.98s\n",
      "         6           0.9740           13.67s\n",
      "         7           0.9475           12.72s\n",
      "         8           0.9197           12.61s\n",
      "         9           0.8979           12.72s\n",
      "        10           0.8730           12.60s\n",
      "        20           0.7207           10.92s\n",
      "        30           0.6055           10.09s\n",
      "        40           0.5244            9.24s\n",
      "        50           0.4501            9.14s\n",
      "        60           0.3908            8.45s\n",
      "        70           0.3372            7.89s\n",
      "        80           0.3009            7.35s\n",
      "        90           0.2603            6.91s\n",
      "       100           0.2327            6.45s\n",
      "       200           0.0835            2.03s\n",
      "      Iter       Train Loss   Remaining Time \n",
      "         1           1.3199           13.09s\n",
      "         2           1.2645           13.32s\n",
      "         3           1.2170           12.58s\n",
      "         4           1.1775           12.51s\n",
      "         5           1.1404           13.31s\n",
      "         6           1.1106           12.77s\n",
      "         7           1.0844           12.98s\n",
      "         8           1.0617           12.97s\n",
      "         9           1.0411           13.03s\n",
      "        10           1.0223           13.26s\n",
      "        20           0.8864           13.28s\n",
      "        30           0.7844           11.35s\n",
      "        40           0.7176           10.06s\n",
      "        50           0.6590            9.27s\n",
      "        60           0.6120            8.64s\n",
      "        70           0.5599            8.15s\n",
      "        80           0.5242            7.52s\n",
      "        90           0.4829            6.97s\n",
      "       100           0.4473            6.53s\n",
      "       200           0.2379            2.03s\n"
     ]
    },
    {
     "data": {
      "image/png": "[encoded data removed]",
      "text/plain": [
       "<Figure size 432x288 with 1 Axes>"
      ]
     },
     "metadata": {},
     "output_type": "display_data"
    }
   ],
   "source": [
    "#Если просто запустить clf.predict(x_test), то получим только конечный результат y_pred. \n",
    "#А хотелось бы проанализировать процесс улучшения, получить 250 значений y_pred[1:250]. \n",
    "#Для этого вводится функция staged_decision_function() - \"поэтапная решающая функция\".\n",
    "\n",
    "train_loss = [] # Списки, хранящие значения log_loss с ключом, равным номеру итерации\n",
    "test_loss = []\n",
    "\n",
    "learn_rate = [1, 0.5, 0.3, 0.2, 0.1]\n",
    "for i in learn_rate:   \n",
    "    \n",
    "    gbs = GBS(n_estimators=250, verbose=True, random_state=241, learning_rate = i)\n",
    "    gbs.fit(X_train,y_train)                                # Всё же сначала обучаем\n",
    "                                                       # В Python enumerate рассматривается как функция. Смысл - как у С++\n",
    "    for j, y_pred in enumerate(gbs.staged_decision_function(X_train)):  #  А затем заново строим поэтапное обучение\n",
    "        y_pred = - y_pred\n",
    "        y_pred = 1 / (1 + np.exp(y_pred)) \n",
    "        train_loss.append(log_loss(y_train,y_pred))\n",
    "    for j, y_pred in enumerate(gbs.staged_decision_function(X_test)):  #  А затем заново строим поэтапное обучение\n",
    "        y_pred = - y_pred\n",
    "        y_pred = 1 / (1 + np.exp(y_pred)) \n",
    "        test_loss.append(log_loss(y_test,y_pred)) \n",
    "    %matplotlib inline\n",
    "    plt.figure()\n",
    "    plt.plot(test_loss, 'r', linewidth=2)\n",
    "    plt.plot(train_loss, 'g', linewidth=2)\n",
    "    plt.legend(['test','train'])"
   ]
  },
  {
   "cell_type": "code",
   "execution_count": 26,
   "metadata": {},
   "outputs": [
    {
     "name": "stdout",
     "output_type": "stream",
     "text": [
      "0.531094637596885 35\n"
     ]
    }
   ],
   "source": [
    "split = test_loss[751:1000]\n",
    "print(min(split),split.index(min(split)), sep =  ' ')"
   ]
  },
  {
   "cell_type": "code",
   "execution_count": 32,
   "metadata": {},
   "outputs": [
    {
     "name": "stdout",
     "output_type": "stream",
     "text": [
      "0.5214106540472289\n"
     ]
    }
   ],
   "source": [
    "#На этих же данных обучите RandomForestClassifier с количеством деревьев, равным количеству итераций, на котором достигается наилучшее качество у градиентного бустинга из предыдущего пункта,\n",
    "# c random_state=241 и остальными параметрами по умолчанию. \n",
    "# Какое значение log-loss на тесте получается у этого случайного леса? \n",
    "#  Не забывайте, что предсказания нужно получать с помощью функции predict_proba\n",
    "from sklearn.ensemble import RandomForestClassifier\n",
    "\n",
    "file = pd.read_csv('gbm-data.csv')\n",
    "df = pd.DataFrame(data = file)\n",
    "target = df['Activity'].values\n",
    "data = df.drop('Activity', axis =1).values\n",
    "X_train, X_test, y_train, y_test = train_test_split(data, target, test_size = 0.8, random_state = 241)\n",
    "forest = RandomForestClassifier(n_estimators=35, random_state = 241)\n",
    "forest.fit(X_train,y_train)\n",
    "y_pred = forest.predict_proba(X_test)\n",
    "print(log_loss(y_test,y_pred)) # На выходе - ошибка\n"
   ]
  },
  {
   "cell_type": "code",
   "execution_count": null,
   "metadata": {},
   "outputs": [],
   "source": []
  }
 ],
 "metadata": {
  "kernelspec": {
   "display_name": "Python 3",
   "language": "python",
   "name": "python3"
  },
  "language_info": {
   "codemirror_mode": {
    "name": "ipython",
    "version": 3
   },
   "file_extension": ".py",
   "mimetype": "text/x-python",
   "name": "python",
   "nbconvert_exporter": "python",
   "pygments_lexer": "ipython3",
   "version": "3.6.5"
  }
 },
 "nbformat": 4,
 "nbformat_minor": 2
}
