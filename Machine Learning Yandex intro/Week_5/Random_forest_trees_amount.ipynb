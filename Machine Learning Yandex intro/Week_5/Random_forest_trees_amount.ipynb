{
 "cells": [
  {
   "cell_type": "code",
   "execution_count": 2,
   "metadata": {},
   "outputs": [
    {
     "name": "stderr",
     "output_type": "stream",
     "text": [
      "D:\\Anaconda3\\lib\\site-packages\\sklearn\\ensemble\\weight_boosting.py:29: DeprecationWarning: numpy.core.umath_tests is an internal NumPy module and should not be imported. It will be removed in a future NumPy release.\n",
      "  from numpy.core.umath_tests import inner1d\n"
     ]
    }
   ],
   "source": [
    "import pandas as pd\n",
    "from sklearn.metrics import r2_score                #среднеквадратичная ошибка для оценки качества леса\n",
    "from sklearn.ensemble import RandomForestRegressor  # решаем задачу восстановления регрессии\n",
    "from  sklearn.model_selection import KFold          #Генератор разбиенией для кросс-валидации\n",
    "from sklearn.model_selection import cross_val_predict # И не забываем про саму кросс-валидацию..."
   ]
  },
  {
   "cell_type": "code",
   "execution_count": 13,
   "metadata": {},
   "outputs": [],
   "source": [
    "file = pd.read_csv('abalone.csv' )\n",
    "data = pd.DataFrame(data = file,columns =  ['Sex',  'Length',  'Diameter',  'Height',  'WholeWeight',  'ShuckedWeight',  'VisceraWeight', 'ShellWeight',  'Rings'])\n",
    "data['Sex'] = data['Sex'].map(lambda x: 1 if x == 'M' else (-1 if x == 'F' else 0)) #Спасибо, Coursera, за знакомство за lambda выражениями\n",
    "target = data['Rings']\n",
    "data = data.drop('Rings', axis = 1)"
   ]
  },
  {
   "cell_type": "code",
   "execution_count": 14,
   "metadata": {},
   "outputs": [
    {
     "name": "stdout",
     "output_type": "stream",
     "text": [
      "      Scores\n",
      "n           \n",
      "50  0.530980\n",
      "49  0.530795\n",
      "48  0.530010\n",
      "42  0.529990\n",
      "33  0.529945\n"
     ]
    }
   ],
   "source": [
    "res = {} # переменная типа словарь для хранения пар типа : количество деревьев - точность\n",
    "kf = KFold(n_splits = 5, random_state=1, shuffle=True)\n",
    "for i in range(50):\n",
    "    forest = RandomForestRegressor(n_estimators=i+1, random_state = 1)\n",
    "    inter_result = cross_val_predict(forest,data,target,cv = kf) # по задумке автора данная штука генерирует массив усреднённых предсказаний для объектов на кросс-валидации\n",
    "    res[i+1] = r2_score(target,inter_result)\n",
    "resDataFrame=pd.DataFrame.from_dict(res, orient='index')#получаем из словаря датасет  \n",
    "resDataFrame.index.name = 'n'\n",
    "resDataFrame.columns =['Scores']\n",
    "resDataFrame.sort_values(['Scores'], ascending=[False],inplace=True)"
   ]
  },
  {
   "cell_type": "code",
   "execution_count": null,
   "metadata": {},
   "outputs": [],
   "source": [
    "print(resDataFrame) # А теперь методом наименьшго угадывания попробуем понять, что авторы имели в виду"
   ]
  },
  {
   "cell_type": "code",
   "execution_count": null,
   "metadata": {},
   "outputs": [],
   "source": []
  }
 ],
 "metadata": {
  "kernelspec": {
   "display_name": "Python 3",
   "language": "python",
   "name": "python3"
  },
  "language_info": {
   "codemirror_mode": {
    "name": "ipython",
    "version": 3
   },
   "file_extension": ".py",
   "mimetype": "text/x-python",
   "name": "python",
   "nbconvert_exporter": "python",
   "pygments_lexer": "ipython3",
   "version": "3.6.5"
  }
 },
 "nbformat": 4,
 "nbformat_minor": 2
}
