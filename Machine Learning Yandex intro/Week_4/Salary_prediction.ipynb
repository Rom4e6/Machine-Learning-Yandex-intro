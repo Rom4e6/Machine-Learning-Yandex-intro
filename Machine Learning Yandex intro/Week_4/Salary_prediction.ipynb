{
 "cells": [
  {
   "cell_type": "code",
   "execution_count": 1,
   "metadata": {
    "scrolled": true
   },
   "outputs": [],
   "source": [
    "import pandas as pd\n",
    "from scipy.sparse import hstack                               #Для объединения матриц\n",
    "from sklearn.feature_extraction.text import TfidfVectorizer  #TF-IDF\n",
    "from sklearn.linear_model import Ridge                      # гребневая регрессия\n",
    "from sklearn.feature_extraction import DictVectorizer      #LocationNormalized и ContractTime являются строковыми, \n",
    "                                                            # и поэтому с ними нельзя работать напрямую. \n",
    "                                                              # Разбиваем категориальные на m бинарных\n",
    "data = pd.read_csv('salary-train.csv')\n",
    "test = pd.read_csv('salary-test-mini.csv')\n",
    "df_train = pd.DataFrame(data, columns  = ['FullDescription', 'LocationNormalized', 'ContractTime',  'SalaryNormalized' ])\n",
    "df_test  = pd.DataFrame(test, columns  = ['FullDescription', 'LocationNormalized', 'ContractTime',  'SalaryNormalized' ])\n",
    "df_train['FullDescription'] = df_train['FullDescription'].str.lower()                        #Приведение к нижнему регистру\n",
    "df_test['FullDescription'] = df_test['FullDescription'].str.lower()                        \n",
    "df_train['FullDescription'] = df_train['FullDescription'].replace('[^a-zA-Z0-9]', ' ', regex = True) # Замена всего, кроме букв и цифр на пробелы\n",
    "df_test['FullDescription'] = df_test['FullDescription'].replace('[^a-zA-Z0-9]', ' ', regex = True) #"
   ]
  },
  {
   "cell_type": "code",
   "execution_count": 2,
   "metadata": {
    "scrolled": true
   },
   "outputs": [],
   "source": [
    "vectorizer = TfidfVectorizer(min_df=5)  # оставляем те слова, которые встречаются хоты бы на 5 объектах\n",
    "\n",
    "X_train_text = vectorizer.fit_transform(df_train['FullDescription']) #преобразование текстов в векторы признаков\n",
    "X_test_text =  vectorizer.transform(df_test['FullDescription'])       # на выходе получаем разреженные матрицы\n",
    "\n",
    "df_train['LocationNormalized'].fillna('nan', inplace=True)         #замена пропущенных значений \n",
    "df_train['ContractTime'].fillna('nan', inplace=True)               # на специальные строковые величины\n",
    "df_test['LocationNormalized'].fillna('nan', inplace=True)    \n",
    "df_test['ContractTime'].fillna('nan', inplace=True)"
   ]
  },
  {
   "cell_type": "code",
   "execution_count": 5,
   "metadata": {},
   "outputs": [],
   "source": [
    "enc = DictVectorizer()\n",
    "\n",
    "X_train_categ = enc.fit_transform(df_train[['LocationNormalized', 'ContractTime']].to_dict('records'))  # обучаем и получаем разреженную матрицу\n",
    "X_test_categ = enc.transform(df_test[['LocationNormalized', 'ContractTime']].to_dict('records'))  # аппроксимируем по обученной\n",
    "\n",
    "train_data = hstack([X_train_text,X_train_categ])   #Ибо не нужно пытаться обсчитать полноценный массив, когда есть разреженная матрица\n",
    "test_data =  hstack([X_test_text,X_test_categ])\n",
    "train_target = df_train['SalaryNormalized']\n",
    "test_target = df_test['SalaryNormalized']"
   ]
  },
  {
   "cell_type": "code",
   "execution_count": 6,
   "metadata": {},
   "outputs": [
    {
     "data": {
      "text/plain": [
       "Ridge(alpha=1.0, copy_X=True, fit_intercept=True, max_iter=None,\n",
       "   normalize=False, random_state=241, solver='auto', tol=0.001)"
      ]
     },
     "execution_count": 6,
     "metadata": {},
     "output_type": "execute_result"
    }
   ],
   "source": [
    "predict = Ridge (alpha = 1.0, random_state = 241)\n",
    "predict.fit(train_data,train_target)                 #обучаем модель"
   ]
  },
  {
   "cell_type": "code",
   "execution_count": 10,
   "metadata": {},
   "outputs": [
    {
     "name": "stdout",
     "output_type": "stream",
     "text": [
      "[56555.61500155 37188.32442618]\n"
     ]
    }
   ],
   "source": [
    "print(predict.predict(test_data))"
   ]
  },
  {
   "cell_type": "code",
   "execution_count": null,
   "metadata": {},
   "outputs": [],
   "source": []
  }
 ],
 "metadata": {
  "kernelspec": {
   "display_name": "Python 3",
   "language": "python",
   "name": "python3"
  },
  "language_info": {
   "codemirror_mode": {
    "name": "ipython",
    "version": 3
   },
   "file_extension": ".py",
   "mimetype": "text/x-python",
   "name": "python",
   "nbconvert_exporter": "python",
   "pygments_lexer": "ipython3",
   "version": "3.6.5"
  }
 },
 "nbformat": 4,
 "nbformat_minor": 2
}
