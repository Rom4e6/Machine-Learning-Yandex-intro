{
 "cells": [
  {
   "cell_type": "code",
   "execution_count": 7,
   "metadata": {},
   "outputs": [],
   "source": [
    "#Поиск опорных векторов\n",
    "import pandas as pd\n",
    "from  sklearn.svm import SVC \n",
    "file = pd.read_csv('svm-data.csv', header = None)\n",
    "df = pd.DataFrame(file)\n",
    "df.columns = ['tar','f_1','f_2']\n",
    "data = df.drop('tar', axis = 1)\n",
    "target = df.tar"
   ]
  },
  {
   "cell_type": "code",
   "execution_count": 8,
   "metadata": {},
   "outputs": [
    {
     "data": {
      "text/plain": [
       "SVC(C=100000, cache_size=200, class_weight=None, coef0=0.0,\n",
       "  decision_function_shape='ovr', degree=3, gamma='auto', kernel='linear',\n",
       "  max_iter=-1, probability=False, random_state=241, shrinking=True,\n",
       "  tol=0.001, verbose=False)"
      ]
     },
     "execution_count": 8,
     "metadata": {},
     "output_type": "execute_result"
    }
   ],
   "source": [
    "clf = SVC(C = 100000, random_state=241, kernel='linear')\n",
    "clf.fit(data, target) "
   ]
  },
  {
   "cell_type": "code",
   "execution_count": 29,
   "metadata": {},
   "outputs": [
    {
     "name": "stdout",
     "output_type": "stream",
     "text": [
      "[3 4 9]\n"
     ]
    }
   ],
   "source": [
    "print(clf.support_)"
   ]
  },
  {
   "cell_type": "code",
   "execution_count": 47,
   "metadata": {},
   "outputs": [],
   "source": [
    "#Анализ текстов \n",
    "\n",
    "from sklearn import datasets\n",
    "from sklearn.feature_extraction.text import TfidfVectorizer         # Слова в цифры\n",
    "from sklearn.svm import SVC                                        #SVM-классификатор \n",
    "from sklearn.model_selection import GridSearchCV                      #Поиск оптимального параметра\n",
    "from sklearn.model_selection import KFold                        #Простое и понятное разбиение\n",
    "from sklearn.model_selection import cross_val_score             #Сама кросс-валидация\n",
    "\n",
    "newsgroups = datasets.fetch_20newsgroups(\n",
    "                    subset='all', \n",
    "                    categories=['alt.atheism', 'sci.space']\n",
    "             )"
   ]
  },
  {
   "cell_type": "code",
   "execution_count": 55,
   "metadata": {},
   "outputs": [],
   "source": [
    "#Вычислите TF-IDF-признаки для всех текстов. \n",
    "#Обратите внимание, что в этом задании мы предлагаем вам вычислить TF-IDF по всем данным\n",
    "\n",
    "vectorizer = TfidfVectorizer()\n",
    "data = vectorizer.fit_transform(newsgroups.data) #TF-IDF по всем данным, до кросс-валидации\n",
    "target = newsgroups.target\n"
   ]
  },
  {
   "cell_type": "code",
   "execution_count": 56,
   "metadata": {},
   "outputs": [
    {
     "data": {
      "text/plain": [
       "GridSearchCV(cv=KFold(n_splits=5, random_state=241, shuffle=True),\n",
       "       error_score='raise',\n",
       "       estimator=SVC(C=1.0, cache_size=200, class_weight=None, coef0=0.0,\n",
       "  decision_function_shape='ovr', degree=3, gamma='auto', kernel='linear',\n",
       "  max_iter=-1, probability=False, random_state=241, shrinking=True,\n",
       "  tol=0.001, verbose=False),\n",
       "       fit_params=None, iid=True, n_jobs=1,\n",
       "       param_grid={'C': array([1.e-05, 1.e-04, 1.e-03, 1.e-02, 1.e-01, 1.e+00, 1.e+01, 1.e+02,\n",
       "       1.e+03, 1.e+04, 1.e+05])},\n",
       "       pre_dispatch='2*n_jobs', refit=True, return_train_score='warn',\n",
       "       scoring='accuracy', verbose=0)"
      ]
     },
     "execution_count": 56,
     "metadata": {},
     "output_type": "execute_result"
    }
   ],
   "source": [
    "#Подберите минимальный лучший параметр C из множества [10^-5, 10^-4, ... 10^4, 10^5] для SVM с линейным ядром (kernel='linear') \n",
    "#                                 при помощи кросс-валидации по 5 блокам.\n",
    "\n",
    "import numpy as np\n",
    "grid = { 'C' : np.power(10.0, np.arange(-5,6))}\n",
    "cv = KFold(n_splits = 5, shuffle = True, random_state = 241) \n",
    "clf = SVC(kernel='linear', random_state=241)\n",
    "gs = GridSearchCV(clf, grid, scoring = 'accuracy', cv = cv) # Кто-то туповат\n",
    "gs.fit(data, target)"
   ]
  },
  {
   "cell_type": "code",
   "execution_count": 73,
   "metadata": {},
   "outputs": [
    {
     "name": "stdout",
     "output_type": "stream",
     "text": [
      "0.5526315789473685 {'C': 1e-05}\n",
      "0.5526315789473685 {'C': 0.0001}\n",
      "0.5526315789473685 {'C': 0.001}\n",
      "0.5526315789473685 {'C': 0.01}\n",
      "0.9501679731243001 {'C': 0.1}\n",
      "0.9932810750279956 {'C': 1.0}\n",
      "0.9932810750279956 {'C': 10.0}\n",
      "0.9932810750279956 {'C': 100.0}\n",
      "0.9932810750279956 {'C': 1000.0}\n",
      "0.9932810750279956 {'C': 10000.0}\n",
      "0.9932810750279956 {'C': 100000.0}\n"
     ]
    },
    {
     "name": "stderr",
     "output_type": "stream",
     "text": [
      "D:\\Anaconda3\\lib\\site-packages\\sklearn\\model_selection\\_search.py:761: DeprecationWarning: The grid_scores_ attribute was deprecated in version 0.18 in favor of the more elaborate cv_results_ attribute. The grid_scores_ attribute will not be available from 0.20\n",
      "  DeprecationWarning)\n"
     ]
    }
   ],
   "source": [
    "for a in gs.grid_scores_:\n",
    "    print(round(a.mean_validation_score,20),a.parameters, sep = ' ') # — оценка качества по кросс-валидации\n",
    "   # a.parameters — значения \n",
    "\n",
    "# Из предыдущего задания : \n",
    "# При значениях параметра С < 100000 алгоритм будет настраиваться с учетом слагаемого в функционале, \n",
    "#                                                                                       штрафующего за маленькие отступы, \n",
    "# из-за чего результат может не совпасть с решением классической задачи SVM для линейно разделимой выборки."
   ]
  },
  {
   "cell_type": "code",
   "execution_count": 94,
   "metadata": {},
   "outputs": [
    {
     "data": {
      "text/plain": [
       "SVC(C=10000.0, cache_size=200, class_weight=None, coef0=0.0,\n",
       "  decision_function_shape='ovr', degree=3, gamma='auto', kernel='linear',\n",
       "  max_iter=-1, probability=False, random_state=241, shrinking=True,\n",
       "  tol=0.001, verbose=False)"
      ]
     },
     "execution_count": 94,
     "metadata": {},
     "output_type": "execute_result"
    }
   ],
   "source": [
    "clf = SVC(C = 10000.0, kernel='linear', random_state=241)\n",
    "clf.fit(data,target) "
   ]
  },
  {
   "cell_type": "code",
   "execution_count": 189,
   "metadata": {},
   "outputs": [],
   "source": [
    "d = clf.coef_ # Получаем разреженную матрицу типа (класс, признак) : вес\n",
    "d = d.todok() # создаём из неё словарь \n",
    "list_d = list(d.items()) # создаём новый словарь, в котором меняем местами ключи и значения, \n",
    "\n",
    "list_d.sort(key=lambda i: abs(i[1]), reverse = True) # сортируем по убыванию\n",
    "a = []\n",
    "for i in range(10):\n",
    "    a.append(list_d[i][0][1])"
   ]
  },
  {
   "cell_type": "code",
   "execution_count": 190,
   "metadata": {},
   "outputs": [
    {
     "name": "stdout",
     "output_type": "stream",
     "text": [
      "atheism atheists bible god keith moon nick religion sky space "
     ]
    }
   ],
   "source": [
    "feature_mapping = vectorizer.get_feature_names()\n",
    "word_vec = []\n",
    "for i in a:\n",
    "    word_vec.append(feature_mapping[i])\n",
    "word_vec.sort()\n",
    "for i in range(len(word_vec)):\n",
    "    print(word_vec[i], end= ' ')\n"
   ]
  },
  {
   "cell_type": "code",
   "execution_count": null,
   "metadata": {},
   "outputs": [],
   "source": []
  }
 ],
 "metadata": {
  "kernelspec": {
   "display_name": "Python 3",
   "language": "python",
   "name": "python3"
  },
  "language_info": {
   "codemirror_mode": {
    "name": "ipython",
    "version": 3
   },
   "file_extension": ".py",
   "mimetype": "text/x-python",
   "name": "python",
   "nbconvert_exporter": "python",
   "pygments_lexer": "ipython3",
   "version": "3.6.5"
  }
 },
 "nbformat": 4,
 "nbformat_minor": 2
}
