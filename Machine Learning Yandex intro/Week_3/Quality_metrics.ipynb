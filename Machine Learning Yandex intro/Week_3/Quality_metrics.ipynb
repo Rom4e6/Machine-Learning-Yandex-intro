{
 "cells": [
  {
   "cell_type": "code",
   "execution_count": 3,
   "metadata": {
    "scrolled": true
   },
   "outputs": [],
   "source": [
    "import pandas as pd\n",
    "data = pd.read_csv('classification.csv')"
   ]
  },
  {
   "cell_type": "code",
   "execution_count": 56,
   "metadata": {},
   "outputs": [
    {
     "name": "stdout",
     "output_type": "stream",
     "text": [
      "43 34 59 64\n"
     ]
    }
   ],
   "source": [
    "TN=TP=FP=FN = 0\n",
    "for i in range(len(data['true'])):\n",
    "    if data['pred'][i]==1 and data['true'][i]==1:\n",
    "        TP+=1\n",
    "    if data['pred'][i]==0 and data['true'][i]==0:\n",
    "        TN+=1\n",
    "    if data['pred'][i]==1 and data['true'][i]==0:\n",
    "        FP+=1\n",
    "    if data['pred'][i]==0 and data['true'][i]==1:\n",
    "        FN+=1\n",
    "print(TP, FP, FN ,TN, sep = ' ')"
   ]
  },
  {
   "cell_type": "code",
   "execution_count": 37,
   "metadata": {},
   "outputs": [
    {
     "name": "stdout",
     "output_type": "stream",
     "text": [
      "0.54 0.56 0.42 0.48\n"
     ]
    }
   ],
   "source": [
    "from sklearn.metrics import accuracy_score\n",
    "from sklearn.metrics import precision_score\n",
    "from sklearn.metrics import recall_score\n",
    "from sklearn.metrics import f1_score\n",
    "acc = round(accuracy_score(data['true'],data['pred']),2)\n",
    "pre = round(precision_score(data['true'],data['pred']),2)\n",
    "rec = round(recall_score(data['true'],data['pred']),2)\n",
    "f1 = round(f1_score(data['true'],data['pred']),2)\n",
    "print(acc,pre,rec,f1,sep=' ')"
   ]
  },
  {
   "cell_type": "code",
   "execution_count": 5,
   "metadata": {},
   "outputs": [
    {
     "name": "stdout",
     "output_type": "stream",
     "text": [
      "   true  score_logreg  score_svm  score_knn  score_tree\n",
      "0     0      0.683832   0.145976   0.787063    0.500000\n",
      "1     1      0.801966   0.239511   1.000000    0.833333\n",
      "2     0      0.382315  -0.245701   0.000000    0.000000\n",
      "3     1      0.506797  -0.137058   0.000000    0.105263\n",
      "4     1      0.488781  -0.154148   0.000000    0.105263\n",
      "5     0      0.108506  -0.790864   0.000000    0.000000\n",
      "6     0      0.413749  -0.185143   0.283053    0.363636\n",
      "7     0      0.961081   0.830973   1.000000    1.000000\n",
      "8     0      0.055733  -0.872805   0.000000    0.100000\n",
      "9     0      0.168708  -0.518390   0.000000    0.100000\n"
     ]
    }
   ],
   "source": [
    "scores = pd.read_csv('scores.csv')\n",
    "print(scores[:10])"
   ]
  },
  {
   "cell_type": "code",
   "execution_count": 50,
   "metadata": {},
   "outputs": [
    {
     "name": "stdout",
     "output_type": "stream",
     "text": [
      "0.719187675070028 0.7086834733893557 0.6351540616246498 0.6919267707082833\n"
     ]
    }
   ],
   "source": [
    "from sklearn.metrics import roc_auc_score\n",
    "logreg  = roc_auc_score(scores['true'], scores['score_logreg'])\n",
    "svm = roc_auc_score(scores['true'], scores['score_svm'])\n",
    "knn = roc_auc_score(scores['true'], scores['score_knn'])\n",
    "tree  = roc_auc_score(scores['true'], scores['score_tree'])\n",
    "print(logreg,svm,knn,tree,sep = ' ') # таки логистический регрессионный классификатор самый точный"
   ]
  },
  {
   "cell_type": "code",
   "execution_count": 54,
   "metadata": {},
   "outputs": [
    {
     "name": "stdout",
     "output_type": "stream",
     "text": [
      "0.6302521008403361 0.6228070175438597 0.6065573770491803 0.6517857142857143\n"
     ]
    }
   ],
   "source": [
    "#Какой классификатор достигает наибольшей точности (Precision) при полноте (Recall) не менее 70% ?\n",
    "#Чтобы получить ответ на этот вопрос, найдите все точки precision-recall-кривой с помощью функции sklearn.metrics.precision_recall_curve. Она возвращает три массива: precision, recall, thresholds. В них записаны точность и полнота при определенных порогах, указанных в массиве thresholds.\n",
    "#Найдите максимальной значение точности среди тех записей, для которых полнота не меньше, чем 0.7\n",
    "from  sklearn.metrics import precision_recall_curve\n",
    "import numpy as np\n",
    "prc = precision_recall_curve\n",
    "logreg = prc(scores['true'], scores['score_logreg'])\n",
    "svm = prc(scores['true'], scores['score_svm'])\n",
    "knn = prc(scores['true'], scores['score_knn'])\n",
    "tree = prc(scores['true'], scores['score_tree'])\n",
    "def max_prec(lis):\n",
    "    maxes = []\n",
    "    for i in range(len(lis[1])):\n",
    "        if lis[1][i] >= 0.7:\n",
    "            maxes.append(abs(lis[0][i]))\n",
    "    return max(maxes)\n",
    "print(max_prec(logreg),max_prec(svm),max_prec(knn),max_prec(tree)) #Но при указанной полноте..."
   ]
  },
  {
   "cell_type": "code",
   "execution_count": null,
   "metadata": {},
   "outputs": [],
   "source": []
  },
  {
   "cell_type": "code",
   "execution_count": null,
   "metadata": {},
   "outputs": [],
   "source": []
  }
 ],
 "metadata": {
  "kernelspec": {
   "display_name": "Python 3",
   "language": "python",
   "name": "python3"
  },
  "language_info": {
   "codemirror_mode": {
    "name": "ipython",
    "version": 3
   },
   "file_extension": ".py",
   "mimetype": "text/x-python",
   "name": "python",
   "nbconvert_exporter": "python",
   "pygments_lexer": "ipython3",
   "version": "3.6.5"
  }
 },
 "nbformat": 4,
 "nbformat_minor": 2
}
