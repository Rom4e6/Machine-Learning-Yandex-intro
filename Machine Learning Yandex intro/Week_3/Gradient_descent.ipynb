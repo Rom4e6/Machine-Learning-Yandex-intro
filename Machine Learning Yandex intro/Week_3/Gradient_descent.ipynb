{
 "cells": [
  {
   "cell_type": "code",
   "execution_count": 44,
   "metadata": {},
   "outputs": [],
   "source": [
    "import pandas as pd\n",
    "import numpy as np\n",
    "file = pd.read_csv('data-logistic.csv', header = None)\n",
    "data = file.drop(0, axis=1)\n",
    "target = file[0]"
   ]
  },
  {
   "cell_type": "code",
   "execution_count": 51,
   "metadata": {},
   "outputs": [],
   "source": [
    "def spec_sum(w_1,w_2, feat_number,array_length, k, features, answers):\n",
    "    sp = 0\n",
    "    for i in np.arange(array_length):\n",
    "        sp += answers[i]*features[feat_number][i]*(1-1/(1+np.exp(-answers[i]*(w_1*features[1][i]+w_2*features[2][i]))))\n",
    "    return sp\n",
    "\n",
    "def gradient_descent(w_1,w_2, array_length, k, features, answers, C  = 0): \n",
    "    itert = 0\n",
    "    while True:\n",
    "        w1_prev = w_1\n",
    "        w2_prev = w_2\n",
    "        w_1 = w1_prev + k/array_length*spec_sum(w1_prev,w2_prev,  1,array_length, k, features, answers ) - k*C*w1_prev\n",
    "        w_2 = w2_prev + k/array_length*spec_sum(w1_prev,w2_prev,  2,array_length, k, features, answers ) - k*C*w2_prev\n",
    "        itert += 1\n",
    "        if (np.sqrt(np.power(w_1,2)+np.power(w_2,2)) - np.sqrt(np.power(w1_prev,2)+np.power(w2_prev,2)))<1e-5 or (itert >1e4):\n",
    "            break\n",
    "    return w_1,w_2,itert\n",
    "    "
   ]
  },
  {
   "cell_type": "code",
   "execution_count": 57,
   "metadata": {},
   "outputs": [],
   "source": [
    "def predict(w_1,w_2, features):\n",
    "    a = []\n",
    "    for i in np.arange(len(features)):\n",
    "        a.append(1 / (1 + np.exp(-w_1*features[1][i] - w_2*features[2][i])))\n",
    "    return a"
   ]
  },
  {
   "cell_type": "code",
   "execution_count": 58,
   "metadata": {},
   "outputs": [],
   "source": [
    "from sklearn.metrics import roc_auc_score\n",
    "w1,w2,it = gradient_descent(0,0,len(data),0.1, data, target)\n",
    "predictions = predict(w1,w2,data)\n",
    "ans_1 = roc_auc_score(target,predictions)"
   ]
  },
  {
   "cell_type": "code",
   "execution_count": 60,
   "metadata": {},
   "outputs": [
    {
     "name": "stdout",
     "output_type": "stream",
     "text": [
      "0.927\n"
     ]
    }
   ],
   "source": [
    "print(round(ans_1,3))"
   ]
  },
  {
   "cell_type": "code",
   "execution_count": 62,
   "metadata": {},
   "outputs": [],
   "source": [
    "w1,w2,it = gradient_descent(0,0,len(data),0.1, data, target,10)\n",
    "predictions = predict(w1,w2,data)\n",
    "ans_2 = roc_auc_score(target,predictions)"
   ]
  },
  {
   "cell_type": "code",
   "execution_count": 63,
   "metadata": {},
   "outputs": [
    {
     "name": "stdout",
     "output_type": "stream",
     "text": [
      "0.936\n"
     ]
    }
   ],
   "source": [
    "print(round(ans_2,3))"
   ]
  },
  {
   "cell_type": "code",
   "execution_count": null,
   "metadata": {},
   "outputs": [],
   "source": []
  }
 ],
 "metadata": {
  "kernelspec": {
   "display_name": "Python 3",
   "language": "python",
   "name": "python3"
  },
  "language_info": {
   "codemirror_mode": {
    "name": "ipython",
    "version": 3
   },
   "file_extension": ".py",
   "mimetype": "text/x-python",
   "name": "python",
   "nbconvert_exporter": "python",
   "pygments_lexer": "ipython3",
   "version": "3.6.5"
  }
 },
 "nbformat": 4,
 "nbformat_minor": 2
}
