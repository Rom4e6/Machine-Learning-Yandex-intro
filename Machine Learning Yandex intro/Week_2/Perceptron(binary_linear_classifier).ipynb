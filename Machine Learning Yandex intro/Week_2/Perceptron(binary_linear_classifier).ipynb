{
 "cells": [
  {
   "cell_type": "code",
   "execution_count": 31,
   "metadata": {},
   "outputs": [],
   "source": [
    "import pandas as pd\n",
    "import numpy as np\n",
    "from sklearn.linear_model import Perceptron\n",
    "from sklearn.preprocessing import StandardScaler\n",
    "from sklearn.metrics import accuracy_score\n",
    "scaler = StandardScaler()\n",
    "\n",
    "train = pd.read_csv('perceptron-train.csv', header=None) # вот странно, почему, когда я указываю, как называются мои столбцы,\n",
    "test = pd.read_csv('perceptron-test.csv', header=None)  #                    он всё равно теряет данные?\n",
    "train_df = pd.DataFrame(data = train)\n",
    "train_df.columns =  ['ans', 'feat_1', 'feat_2']\n",
    "test_df = pd.DataFrame(data = test)\n",
    "test_df.columns =  ['ans', 'feat_1', 'feat_2']\n",
    "train_data = train_df.drop('ans', axis = 1)\n",
    "train_target = train_df.ans\n",
    "test_data = test_df.drop('ans', axis = 1)\n",
    "test_target = test_df.ans"
   ]
  },
  {
   "cell_type": "code",
   "execution_count": 32,
   "metadata": {},
   "outputs": [
    {
     "name": "stdout",
     "output_type": "stream",
     "text": [
      "0.19\n"
     ]
    }
   ],
   "source": [
    "clf = Perceptron(random_state=241, max_iter=5, tol=None)\n",
    "clf.fit(train_data,train_target)\n",
    "predictions = clf.predict(test_data)\n",
    "accurancy = accuracy_score(test_target,predictions)\n",
    "train_data_scaled = scaler.fit_transform(train_data)\n",
    "test_data_scaled = scaler.transform(test_data)\n",
    "clf.fit(train_data_scaled,train_target)\n",
    "predictions = clf.predict(test_data_scaled)\n",
    "accurancy_scaled = accuracy_score(test_target,predictions)\n",
    "print(round(accurancy_scaled-accurancy,3))\n",
    "\n"
   ]
  },
  {
   "cell_type": "code",
   "execution_count": null,
   "metadata": {},
   "outputs": [],
   "source": []
  }
 ],
 "metadata": {
  "kernelspec": {
   "display_name": "Python 3",
   "language": "python",
   "name": "python3"
  },
  "language_info": {
   "codemirror_mode": {
    "name": "ipython",
    "version": 3
   },
   "file_extension": ".py",
   "mimetype": "text/x-python",
   "name": "python",
   "nbconvert_exporter": "python",
   "pygments_lexer": "ipython3",
   "version": "3.6.5"
  }
 },
 "nbformat": 4,
 "nbformat_minor": 2
}
