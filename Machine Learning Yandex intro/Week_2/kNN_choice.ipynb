{
 "cells": [
  {
   "cell_type": "code",
   "execution_count": 1,
   "metadata": {
    "scrolled": false
   },
   "outputs": [],
   "source": [
    "import pandas as pd\n",
    "data = pd.read_table('wine.data', sep=',')\n",
    "df = pd.DataFrame(data = data)\n",
    "#Извлеките из данных признаки и классы. Класс записан в первом столбце (три варианта), признаки — в столбцах со второго по последний. \n",
    "data.columns = ['Class','Alcohol','MalicAcid','Ash','AlcalinityOfAsh','Magnesium','TotalPhenols','Flavanoids','NonflavanoidPhenols','Proanthocyanins','ColorIntensity','Hue','OD280_OD315OfDilutedWines','Proline']\n",
    "target = df.Class # классы\n",
    "model = df.drop(['Class'], axis=1 )# признаки "
   ]
  },
  {
   "cell_type": "code",
   "execution_count": 2,
   "metadata": {},
   "outputs": [],
   "source": [
    "# Создайте генератор разбиений, который перемешивает выборку перед формированием блоков (shuffle=True).\n",
    "# Для воспроизводимости результата, создавайте генератор KFold с фиксированным параметром random_state=42.\n",
    "# В качестве меры качества используйте долю верных ответов (accuracy).\n",
    "from sklearn.model_selection import KFold \n",
    "kf = KFold(n_splits=5, shuffle = True, random_state = 42)"
   ]
  },
  {
   "cell_type": "code",
   "execution_count": 19,
   "metadata": {},
   "outputs": [
    {
     "name": "stdout",
     "output_type": "stream",
     "text": [
      "      Scores\n",
      "n           \n",
      "1   0.735238\n",
      "15  0.735079\n",
      "20  0.729365\n",
      "18  0.729365\n",
      "16  0.729365\n"
     ]
    }
   ],
   "source": [
    " #Найдите точность классификации на кросс-валидации для метода k ближайших соседей при k от 1 до 50. \n",
    " #При каком k получилось оптимальное качество? Чему оно равно (число в интервале от 0 до 1)?\n",
    "# Данные результаты и будут ответами на вопросы 1 и 2.\n",
    "from sklearn.neighbors import KNeighborsClassifier\n",
    "res = {} #переменная типа словарь хранения результатов работы классификатора для различного количества соседей\n",
    "for n in range(50):\n",
    "    neighbor = KNeighborsClassifier(n_neighbors = n+1)\n",
    "    inter_res = cross_val_score(neighbor,model,target,cv=kf)  #запуск кросс-валидации\n",
    "    #inter_ave = sum(inter_res)/len(inter_res)  \n",
    "    res[n+1] = inter_res.mean()            \n",
    "resDataFrame=pd.DataFrame.from_dict(res, orient='index')#получаем из словаря датасет  \n",
    "resDataFrame.index.name = 'n'\n",
    "resDataFrame.columns =['Scores']\n",
    "resDataFrame.sort_values(['Scores'], ascending=[False],inplace=True)\n",
    "print(resDataFrame.head())"
   ]
  },
  {
   "cell_type": "code",
   "execution_count": 26,
   "metadata": {},
   "outputs": [
    {
     "name": "stdout",
     "output_type": "stream",
     "text": [
      "      Scores\n",
      "n           \n",
      "33  0.977302\n",
      "30  0.977302\n",
      "28  0.977302\n",
      "37  0.977302\n",
      "36  0.977302\n",
      "35  0.977302\n",
      "34  0.977302\n",
      "29  0.977302\n",
      "32  0.977302\n",
      "31  0.977302\n",
      "7   0.971905\n"
     ]
    }
   ],
   "source": [
    "from sklearn.preprocessing import scale\n",
    "model = scale(model)\n",
    "res = {} #переменная типа словарь хранения результатов работы классификатора для различного количества соседей\n",
    "for n in range(50):\n",
    "    neighbor = KNeighborsClassifier(n_neighbors = n+1)\n",
    "    inter_res = cross_val_score(neighbor,model,target,cv=kf)  # должен выдать среднее для 5 разбиенией для одного соседа\n",
    "    #inter_ave = sum(inter_res)/len(inter_res)  # подсчёт среднего  в промежуточном массиве для одного соседа\n",
    "    res[n+1] = inter_res.mean()            #на самом деле cv= писать обязательно\n",
    "resDataFrame=pd.DataFrame.from_dict(res, orient='index')#получаем из словаря датасет  \n",
    "resDataFrame.index.name = 'n'\n",
    "resDataFrame.columns =['Scores']\n",
    "resDataFrame.sort_values(['Scores'], ascending=[False],inplace=True)\n",
    "print(resDataFrame.head(11)) #ещё, оказывается, думать надо"
   ]
  },
  {
   "cell_type": "code",
   "execution_count": null,
   "metadata": {},
   "outputs": [],
   "source": []
  }
 ],
 "metadata": {
  "kernelspec": {
   "display_name": "Python 3",
   "language": "python",
   "name": "python3"
  },
  "language_info": {
   "codemirror_mode": {
    "name": "ipython",
    "version": 3
   },
   "file_extension": ".py",
   "mimetype": "text/x-python",
   "name": "python",
   "nbconvert_exporter": "python",
   "pygments_lexer": "ipython3",
   "version": "3.6.5"
  }
 },
 "nbformat": 4,
 "nbformat_minor": 2
}
