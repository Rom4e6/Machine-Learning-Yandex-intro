{
 "cells": [
  {
   "cell_type": "code",
   "execution_count": 4,
   "metadata": {},
   "outputs": [
    {
     "name": "stdout",
     "output_type": "stream",
     "text": [
      "[[ 0.42934325 -0.25966728 -0.26283477 ...  1.35088366  0.38508011\n",
      "   0.9256431 ]\n",
      " [ 0.78361236 -1.25000813 -0.52471511 ... -0.95269013  0.31357198\n",
      "   2.61425357]\n",
      " [ 0.34171582 -1.68943882 -0.02024151 ... -1.14763481 -0.20872695\n",
      "  -1.80666867]\n",
      " ...\n",
      " [ 2.82249761  0.87561951  1.14203484 ...  0.67710016 -0.6931354\n",
      "  -0.82627236]\n",
      " [-1.74150025 -0.62312262  1.94690271 ... -1.99466825 -0.40281997\n",
      "  -0.66980722]\n",
      " [ 1.15968379  0.44000121 -0.38147113 ...  0.85356459  0.53690542\n",
      "  -1.69926158]]\n"
     ]
    }
   ],
   "source": [
    "import numpy as np\n",
    "X = np.random.normal(loc=1, scale= 10, size = (1000,50)) # Генерация матрицы с нормальным распределением с заданными средним и дисперсией\n",
    "m = np.mean(X,axis = 0) # вычисление среднего\n",
    "std = np.std (X, axis = 0) # вычисление дисперсии\n",
    "X_norm = ((X-m)/std) # получение нормированной матрицы\n",
    "print (X_norm)"
   ]
  },
  {
   "cell_type": "code",
   "execution_count": 9,
   "metadata": {},
   "outputs": [
    {
     "name": "stdout",
     "output_type": "stream",
     "text": [
      "(array([1, 2, 4, 5], dtype=int64),)\n"
     ]
    }
   ],
   "source": [
    "Z = np.array ([[4,5,0],\n",
    "              [2,1,8],\n",
    "             [9,8,7],\n",
    "             [4,5,1],\n",
    "              [2,2,8],\n",
    "              [1,5,8]])\n",
    "s = np.sum(Z, axis =1) # сумма  по строкам\n",
    "print (np.nonzero(s>10))"
   ]
  },
  {
   "cell_type": "code",
   "execution_count": 11,
   "metadata": {},
   "outputs": [
    {
     "name": "stdout",
     "output_type": "stream",
     "text": [
      "[[1. 0. 0.]\n",
      " [0. 1. 0.]\n",
      " [0. 0. 1.]]\n",
      "[[1. 0. 0.]\n",
      " [0. 1. 0.]\n",
      " [0. 0. 1.]]\n"
     ]
    }
   ],
   "source": [
    "A = np.eye(3) # создание единичной матрицы\n",
    "B = np.eye(3)\n",
    "print (A)\n",
    "print(B)"
   ]
  },
  {
   "cell_type": "code",
   "execution_count": 16,
   "metadata": {},
   "outputs": [
    {
     "name": "stdout",
     "output_type": "stream",
     "text": [
      "[[1. 0. 0.]\n",
      " [0. 1. 0.]\n",
      " [0. 0. 1.]\n",
      " [1. 0. 0.]\n",
      " [0. 1. 0.]\n",
      " [0. 0. 1.]]\n"
     ]
    }
   ],
   "source": [
    "AB = np.vstack((A,B)) # вертикальная стыковка матриц\n",
    "print(AB)"
   ]
  }
 ],
 "metadata": {
  "kernelspec": {
   "display_name": "Python 3",
   "language": "python",
   "name": "python3"
  },
  "language_info": {
   "codemirror_mode": {
    "name": "ipython",
    "version": 3
   },
   "file_extension": ".py",
   "mimetype": "text/x-python",
   "name": "python",
   "nbconvert_exporter": "python",
   "pygments_lexer": "ipython3",
   "version": "3.6.5"
  }
 },
 "nbformat": 4,
 "nbformat_minor": 2
}
